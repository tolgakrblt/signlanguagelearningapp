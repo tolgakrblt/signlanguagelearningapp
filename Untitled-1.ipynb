{
 "cells": [
  {
   "cell_type": "markdown",
   "metadata": {},
   "source": [
    "Importing Necessary Libraries"
   ]
  },
  {
   "cell_type": "code",
   "execution_count": 1,
   "metadata": {},
   "outputs": [],
   "source": [
    "import os\n",
    "import torch\n",
    "import torch.nn as nn\n",
    "import torch.nn.functional as F\n",
    "import numpy as np \n",
    "from common.nets.module import BackboneNet, PoseNet\n",
    "from common.nets.loss import JointHeatmapLoss, HandTypeLoss, RelRootDepthLoss\n",
    "from main.config import cfg\n",
    "from PIL import Image\n",
    "from torchvision import transforms\n",
    "from main.model import Model \n",
    "from common.utils.vis import vis_keypoints, vis_3d_keypoints\n",
    "from common.utils.preprocessing import load_img, load_skeleton, process_bbox, generate_patch_image, transform_input_to_output_space, trans_point2d"
   ]
  },
  {
   "cell_type": "markdown",
   "metadata": {},
   "source": [
    "Checkpoint Loading"
   ]
  },
  {
   "cell_type": "code",
   "execution_count": 2,
   "metadata": {},
   "outputs": [],
   "source": [
    "# Load the checkpoint\n",
    "checkpoint = torch.load(r\"C:\\\\Users\\\\user\\\\Desktop\\\\Codes\\\\SignLanguageProject\\\\InterHand2.6M\\\\snapshot.tar\", map_location='cpu')\n",
    "\n",
    "network = checkpoint['network']"
   ]
  },
  {
   "cell_type": "markdown",
   "metadata": {},
   "source": [
    "Creating an Instance of the Model Architecture"
   ]
  },
  {
   "cell_type": "code",
   "execution_count": 3,
   "metadata": {},
   "outputs": [],
   "source": [
    "# Create an instance of the model architecture\n",
    "# You should replace 'ModelClass' with the actual class of your model\n",
    "backbone_net = BackboneNet()\n",
    "pose_net = PoseNet(21)\n",
    "model_instance = Model(backbone_net, pose_net)"
   ]
  },
  {
   "cell_type": "markdown",
   "metadata": {},
   "source": [
    "Loading the Model's state_dict"
   ]
  },
  {
   "cell_type": "code",
   "execution_count": 4,
   "metadata": {},
   "outputs": [
    {
     "data": {
      "text/plain": [
       "_IncompatibleKeys(missing_keys=['backbone_net.resnet.conv1.weight', 'backbone_net.resnet.bn1.weight', 'backbone_net.resnet.bn1.bias', 'backbone_net.resnet.bn1.running_mean', 'backbone_net.resnet.bn1.running_var', 'backbone_net.resnet.layer1.0.conv1.weight', 'backbone_net.resnet.layer1.0.bn1.weight', 'backbone_net.resnet.layer1.0.bn1.bias', 'backbone_net.resnet.layer1.0.bn1.running_mean', 'backbone_net.resnet.layer1.0.bn1.running_var', 'backbone_net.resnet.layer1.0.conv2.weight', 'backbone_net.resnet.layer1.0.bn2.weight', 'backbone_net.resnet.layer1.0.bn2.bias', 'backbone_net.resnet.layer1.0.bn2.running_mean', 'backbone_net.resnet.layer1.0.bn2.running_var', 'backbone_net.resnet.layer1.0.conv3.weight', 'backbone_net.resnet.layer1.0.bn3.weight', 'backbone_net.resnet.layer1.0.bn3.bias', 'backbone_net.resnet.layer1.0.bn3.running_mean', 'backbone_net.resnet.layer1.0.bn3.running_var', 'backbone_net.resnet.layer1.0.downsample.0.weight', 'backbone_net.resnet.layer1.0.downsample.1.weight', 'backbone_net.resnet.layer1.0.downsample.1.bias', 'backbone_net.resnet.layer1.0.downsample.1.running_mean', 'backbone_net.resnet.layer1.0.downsample.1.running_var', 'backbone_net.resnet.layer1.1.conv1.weight', 'backbone_net.resnet.layer1.1.bn1.weight', 'backbone_net.resnet.layer1.1.bn1.bias', 'backbone_net.resnet.layer1.1.bn1.running_mean', 'backbone_net.resnet.layer1.1.bn1.running_var', 'backbone_net.resnet.layer1.1.conv2.weight', 'backbone_net.resnet.layer1.1.bn2.weight', 'backbone_net.resnet.layer1.1.bn2.bias', 'backbone_net.resnet.layer1.1.bn2.running_mean', 'backbone_net.resnet.layer1.1.bn2.running_var', 'backbone_net.resnet.layer1.1.conv3.weight', 'backbone_net.resnet.layer1.1.bn3.weight', 'backbone_net.resnet.layer1.1.bn3.bias', 'backbone_net.resnet.layer1.1.bn3.running_mean', 'backbone_net.resnet.layer1.1.bn3.running_var', 'backbone_net.resnet.layer1.2.conv1.weight', 'backbone_net.resnet.layer1.2.bn1.weight', 'backbone_net.resnet.layer1.2.bn1.bias', 'backbone_net.resnet.layer1.2.bn1.running_mean', 'backbone_net.resnet.layer1.2.bn1.running_var', 'backbone_net.resnet.layer1.2.conv2.weight', 'backbone_net.resnet.layer1.2.bn2.weight', 'backbone_net.resnet.layer1.2.bn2.bias', 'backbone_net.resnet.layer1.2.bn2.running_mean', 'backbone_net.resnet.layer1.2.bn2.running_var', 'backbone_net.resnet.layer1.2.conv3.weight', 'backbone_net.resnet.layer1.2.bn3.weight', 'backbone_net.resnet.layer1.2.bn3.bias', 'backbone_net.resnet.layer1.2.bn3.running_mean', 'backbone_net.resnet.layer1.2.bn3.running_var', 'backbone_net.resnet.layer2.0.conv1.weight', 'backbone_net.resnet.layer2.0.bn1.weight', 'backbone_net.resnet.layer2.0.bn1.bias', 'backbone_net.resnet.layer2.0.bn1.running_mean', 'backbone_net.resnet.layer2.0.bn1.running_var', 'backbone_net.resnet.layer2.0.conv2.weight', 'backbone_net.resnet.layer2.0.bn2.weight', 'backbone_net.resnet.layer2.0.bn2.bias', 'backbone_net.resnet.layer2.0.bn2.running_mean', 'backbone_net.resnet.layer2.0.bn2.running_var', 'backbone_net.resnet.layer2.0.conv3.weight', 'backbone_net.resnet.layer2.0.bn3.weight', 'backbone_net.resnet.layer2.0.bn3.bias', 'backbone_net.resnet.layer2.0.bn3.running_mean', 'backbone_net.resnet.layer2.0.bn3.running_var', 'backbone_net.resnet.layer2.0.downsample.0.weight', 'backbone_net.resnet.layer2.0.downsample.1.weight', 'backbone_net.resnet.layer2.0.downsample.1.bias', 'backbone_net.resnet.layer2.0.downsample.1.running_mean', 'backbone_net.resnet.layer2.0.downsample.1.running_var', 'backbone_net.resnet.layer2.1.conv1.weight', 'backbone_net.resnet.layer2.1.bn1.weight', 'backbone_net.resnet.layer2.1.bn1.bias', 'backbone_net.resnet.layer2.1.bn1.running_mean', 'backbone_net.resnet.layer2.1.bn1.running_var', 'backbone_net.resnet.layer2.1.conv2.weight', 'backbone_net.resnet.layer2.1.bn2.weight', 'backbone_net.resnet.layer2.1.bn2.bias', 'backbone_net.resnet.layer2.1.bn2.running_mean', 'backbone_net.resnet.layer2.1.bn2.running_var', 'backbone_net.resnet.layer2.1.conv3.weight', 'backbone_net.resnet.layer2.1.bn3.weight', 'backbone_net.resnet.layer2.1.bn3.bias', 'backbone_net.resnet.layer2.1.bn3.running_mean', 'backbone_net.resnet.layer2.1.bn3.running_var', 'backbone_net.resnet.layer2.2.conv1.weight', 'backbone_net.resnet.layer2.2.bn1.weight', 'backbone_net.resnet.layer2.2.bn1.bias', 'backbone_net.resnet.layer2.2.bn1.running_mean', 'backbone_net.resnet.layer2.2.bn1.running_var', 'backbone_net.resnet.layer2.2.conv2.weight', 'backbone_net.resnet.layer2.2.bn2.weight', 'backbone_net.resnet.layer2.2.bn2.bias', 'backbone_net.resnet.layer2.2.bn2.running_mean', 'backbone_net.resnet.layer2.2.bn2.running_var', 'backbone_net.resnet.layer2.2.conv3.weight', 'backbone_net.resnet.layer2.2.bn3.weight', 'backbone_net.resnet.layer2.2.bn3.bias', 'backbone_net.resnet.layer2.2.bn3.running_mean', 'backbone_net.resnet.layer2.2.bn3.running_var', 'backbone_net.resnet.layer2.3.conv1.weight', 'backbone_net.resnet.layer2.3.bn1.weight', 'backbone_net.resnet.layer2.3.bn1.bias', 'backbone_net.resnet.layer2.3.bn1.running_mean', 'backbone_net.resnet.layer2.3.bn1.running_var', 'backbone_net.resnet.layer2.3.conv2.weight', 'backbone_net.resnet.layer2.3.bn2.weight', 'backbone_net.resnet.layer2.3.bn2.bias', 'backbone_net.resnet.layer2.3.bn2.running_mean', 'backbone_net.resnet.layer2.3.bn2.running_var', 'backbone_net.resnet.layer2.3.conv3.weight', 'backbone_net.resnet.layer2.3.bn3.weight', 'backbone_net.resnet.layer2.3.bn3.bias', 'backbone_net.resnet.layer2.3.bn3.running_mean', 'backbone_net.resnet.layer2.3.bn3.running_var', 'backbone_net.resnet.layer3.0.conv1.weight', 'backbone_net.resnet.layer3.0.bn1.weight', 'backbone_net.resnet.layer3.0.bn1.bias', 'backbone_net.resnet.layer3.0.bn1.running_mean', 'backbone_net.resnet.layer3.0.bn1.running_var', 'backbone_net.resnet.layer3.0.conv2.weight', 'backbone_net.resnet.layer3.0.bn2.weight', 'backbone_net.resnet.layer3.0.bn2.bias', 'backbone_net.resnet.layer3.0.bn2.running_mean', 'backbone_net.resnet.layer3.0.bn2.running_var', 'backbone_net.resnet.layer3.0.conv3.weight', 'backbone_net.resnet.layer3.0.bn3.weight', 'backbone_net.resnet.layer3.0.bn3.bias', 'backbone_net.resnet.layer3.0.bn3.running_mean', 'backbone_net.resnet.layer3.0.bn3.running_var', 'backbone_net.resnet.layer3.0.downsample.0.weight', 'backbone_net.resnet.layer3.0.downsample.1.weight', 'backbone_net.resnet.layer3.0.downsample.1.bias', 'backbone_net.resnet.layer3.0.downsample.1.running_mean', 'backbone_net.resnet.layer3.0.downsample.1.running_var', 'backbone_net.resnet.layer3.1.conv1.weight', 'backbone_net.resnet.layer3.1.bn1.weight', 'backbone_net.resnet.layer3.1.bn1.bias', 'backbone_net.resnet.layer3.1.bn1.running_mean', 'backbone_net.resnet.layer3.1.bn1.running_var', 'backbone_net.resnet.layer3.1.conv2.weight', 'backbone_net.resnet.layer3.1.bn2.weight', 'backbone_net.resnet.layer3.1.bn2.bias', 'backbone_net.resnet.layer3.1.bn2.running_mean', 'backbone_net.resnet.layer3.1.bn2.running_var', 'backbone_net.resnet.layer3.1.conv3.weight', 'backbone_net.resnet.layer3.1.bn3.weight', 'backbone_net.resnet.layer3.1.bn3.bias', 'backbone_net.resnet.layer3.1.bn3.running_mean', 'backbone_net.resnet.layer3.1.bn3.running_var', 'backbone_net.resnet.layer3.2.conv1.weight', 'backbone_net.resnet.layer3.2.bn1.weight', 'backbone_net.resnet.layer3.2.bn1.bias', 'backbone_net.resnet.layer3.2.bn1.running_mean', 'backbone_net.resnet.layer3.2.bn1.running_var', 'backbone_net.resnet.layer3.2.conv2.weight', 'backbone_net.resnet.layer3.2.bn2.weight', 'backbone_net.resnet.layer3.2.bn2.bias', 'backbone_net.resnet.layer3.2.bn2.running_mean', 'backbone_net.resnet.layer3.2.bn2.running_var', 'backbone_net.resnet.layer3.2.conv3.weight', 'backbone_net.resnet.layer3.2.bn3.weight', 'backbone_net.resnet.layer3.2.bn3.bias', 'backbone_net.resnet.layer3.2.bn3.running_mean', 'backbone_net.resnet.layer3.2.bn3.running_var', 'backbone_net.resnet.layer3.3.conv1.weight', 'backbone_net.resnet.layer3.3.bn1.weight', 'backbone_net.resnet.layer3.3.bn1.bias', 'backbone_net.resnet.layer3.3.bn1.running_mean', 'backbone_net.resnet.layer3.3.bn1.running_var', 'backbone_net.resnet.layer3.3.conv2.weight', 'backbone_net.resnet.layer3.3.bn2.weight', 'backbone_net.resnet.layer3.3.bn2.bias', 'backbone_net.resnet.layer3.3.bn2.running_mean', 'backbone_net.resnet.layer3.3.bn2.running_var', 'backbone_net.resnet.layer3.3.conv3.weight', 'backbone_net.resnet.layer3.3.bn3.weight', 'backbone_net.resnet.layer3.3.bn3.bias', 'backbone_net.resnet.layer3.3.bn3.running_mean', 'backbone_net.resnet.layer3.3.bn3.running_var', 'backbone_net.resnet.layer3.4.conv1.weight', 'backbone_net.resnet.layer3.4.bn1.weight', 'backbone_net.resnet.layer3.4.bn1.bias', 'backbone_net.resnet.layer3.4.bn1.running_mean', 'backbone_net.resnet.layer3.4.bn1.running_var', 'backbone_net.resnet.layer3.4.conv2.weight', 'backbone_net.resnet.layer3.4.bn2.weight', 'backbone_net.resnet.layer3.4.bn2.bias', 'backbone_net.resnet.layer3.4.bn2.running_mean', 'backbone_net.resnet.layer3.4.bn2.running_var', 'backbone_net.resnet.layer3.4.conv3.weight', 'backbone_net.resnet.layer3.4.bn3.weight', 'backbone_net.resnet.layer3.4.bn3.bias', 'backbone_net.resnet.layer3.4.bn3.running_mean', 'backbone_net.resnet.layer3.4.bn3.running_var', 'backbone_net.resnet.layer3.5.conv1.weight', 'backbone_net.resnet.layer3.5.bn1.weight', 'backbone_net.resnet.layer3.5.bn1.bias', 'backbone_net.resnet.layer3.5.bn1.running_mean', 'backbone_net.resnet.layer3.5.bn1.running_var', 'backbone_net.resnet.layer3.5.conv2.weight', 'backbone_net.resnet.layer3.5.bn2.weight', 'backbone_net.resnet.layer3.5.bn2.bias', 'backbone_net.resnet.layer3.5.bn2.running_mean', 'backbone_net.resnet.layer3.5.bn2.running_var', 'backbone_net.resnet.layer3.5.conv3.weight', 'backbone_net.resnet.layer3.5.bn3.weight', 'backbone_net.resnet.layer3.5.bn3.bias', 'backbone_net.resnet.layer3.5.bn3.running_mean', 'backbone_net.resnet.layer3.5.bn3.running_var', 'backbone_net.resnet.layer4.0.conv1.weight', 'backbone_net.resnet.layer4.0.bn1.weight', 'backbone_net.resnet.layer4.0.bn1.bias', 'backbone_net.resnet.layer4.0.bn1.running_mean', 'backbone_net.resnet.layer4.0.bn1.running_var', 'backbone_net.resnet.layer4.0.conv2.weight', 'backbone_net.resnet.layer4.0.bn2.weight', 'backbone_net.resnet.layer4.0.bn2.bias', 'backbone_net.resnet.layer4.0.bn2.running_mean', 'backbone_net.resnet.layer4.0.bn2.running_var', 'backbone_net.resnet.layer4.0.conv3.weight', 'backbone_net.resnet.layer4.0.bn3.weight', 'backbone_net.resnet.layer4.0.bn3.bias', 'backbone_net.resnet.layer4.0.bn3.running_mean', 'backbone_net.resnet.layer4.0.bn3.running_var', 'backbone_net.resnet.layer4.0.downsample.0.weight', 'backbone_net.resnet.layer4.0.downsample.1.weight', 'backbone_net.resnet.layer4.0.downsample.1.bias', 'backbone_net.resnet.layer4.0.downsample.1.running_mean', 'backbone_net.resnet.layer4.0.downsample.1.running_var', 'backbone_net.resnet.layer4.1.conv1.weight', 'backbone_net.resnet.layer4.1.bn1.weight', 'backbone_net.resnet.layer4.1.bn1.bias', 'backbone_net.resnet.layer4.1.bn1.running_mean', 'backbone_net.resnet.layer4.1.bn1.running_var', 'backbone_net.resnet.layer4.1.conv2.weight', 'backbone_net.resnet.layer4.1.bn2.weight', 'backbone_net.resnet.layer4.1.bn2.bias', 'backbone_net.resnet.layer4.1.bn2.running_mean', 'backbone_net.resnet.layer4.1.bn2.running_var', 'backbone_net.resnet.layer4.1.conv3.weight', 'backbone_net.resnet.layer4.1.bn3.weight', 'backbone_net.resnet.layer4.1.bn3.bias', 'backbone_net.resnet.layer4.1.bn3.running_mean', 'backbone_net.resnet.layer4.1.bn3.running_var', 'backbone_net.resnet.layer4.2.conv1.weight', 'backbone_net.resnet.layer4.2.bn1.weight', 'backbone_net.resnet.layer4.2.bn1.bias', 'backbone_net.resnet.layer4.2.bn1.running_mean', 'backbone_net.resnet.layer4.2.bn1.running_var', 'backbone_net.resnet.layer4.2.conv2.weight', 'backbone_net.resnet.layer4.2.bn2.weight', 'backbone_net.resnet.layer4.2.bn2.bias', 'backbone_net.resnet.layer4.2.bn2.running_mean', 'backbone_net.resnet.layer4.2.bn2.running_var', 'backbone_net.resnet.layer4.2.conv3.weight', 'backbone_net.resnet.layer4.2.bn3.weight', 'backbone_net.resnet.layer4.2.bn3.bias', 'backbone_net.resnet.layer4.2.bn3.running_mean', 'backbone_net.resnet.layer4.2.bn3.running_var', 'pose_net.joint_deconv_1.0.weight', 'pose_net.joint_deconv_1.1.weight', 'pose_net.joint_deconv_1.1.bias', 'pose_net.joint_deconv_1.1.running_mean', 'pose_net.joint_deconv_1.1.running_var', 'pose_net.joint_deconv_1.3.weight', 'pose_net.joint_deconv_1.4.weight', 'pose_net.joint_deconv_1.4.bias', 'pose_net.joint_deconv_1.4.running_mean', 'pose_net.joint_deconv_1.4.running_var', 'pose_net.joint_deconv_1.6.weight', 'pose_net.joint_deconv_1.7.weight', 'pose_net.joint_deconv_1.7.bias', 'pose_net.joint_deconv_1.7.running_mean', 'pose_net.joint_deconv_1.7.running_var', 'pose_net.joint_conv_1.0.weight', 'pose_net.joint_conv_1.0.bias', 'pose_net.joint_deconv_2.0.weight', 'pose_net.joint_deconv_2.1.weight', 'pose_net.joint_deconv_2.1.bias', 'pose_net.joint_deconv_2.1.running_mean', 'pose_net.joint_deconv_2.1.running_var', 'pose_net.joint_deconv_2.3.weight', 'pose_net.joint_deconv_2.4.weight', 'pose_net.joint_deconv_2.4.bias', 'pose_net.joint_deconv_2.4.running_mean', 'pose_net.joint_deconv_2.4.running_var', 'pose_net.joint_deconv_2.6.weight', 'pose_net.joint_deconv_2.7.weight', 'pose_net.joint_deconv_2.7.bias', 'pose_net.joint_deconv_2.7.running_mean', 'pose_net.joint_deconv_2.7.running_var', 'pose_net.joint_conv_2.0.weight', 'pose_net.joint_conv_2.0.bias', 'pose_net.root_fc.0.weight', 'pose_net.root_fc.0.bias', 'pose_net.root_fc.2.weight', 'pose_net.root_fc.2.bias', 'pose_net.hand_fc.0.weight', 'pose_net.hand_fc.0.bias', 'pose_net.hand_fc.2.weight', 'pose_net.hand_fc.2.bias'], unexpected_keys=['module.backbone_net.resnet.conv1.weight', 'module.backbone_net.resnet.bn1.weight', 'module.backbone_net.resnet.bn1.bias', 'module.backbone_net.resnet.bn1.running_mean', 'module.backbone_net.resnet.bn1.running_var', 'module.backbone_net.resnet.bn1.num_batches_tracked', 'module.backbone_net.resnet.layer1.0.conv1.weight', 'module.backbone_net.resnet.layer1.0.bn1.weight', 'module.backbone_net.resnet.layer1.0.bn1.bias', 'module.backbone_net.resnet.layer1.0.bn1.running_mean', 'module.backbone_net.resnet.layer1.0.bn1.running_var', 'module.backbone_net.resnet.layer1.0.bn1.num_batches_tracked', 'module.backbone_net.resnet.layer1.0.conv2.weight', 'module.backbone_net.resnet.layer1.0.bn2.weight', 'module.backbone_net.resnet.layer1.0.bn2.bias', 'module.backbone_net.resnet.layer1.0.bn2.running_mean', 'module.backbone_net.resnet.layer1.0.bn2.running_var', 'module.backbone_net.resnet.layer1.0.bn2.num_batches_tracked', 'module.backbone_net.resnet.layer1.0.conv3.weight', 'module.backbone_net.resnet.layer1.0.bn3.weight', 'module.backbone_net.resnet.layer1.0.bn3.bias', 'module.backbone_net.resnet.layer1.0.bn3.running_mean', 'module.backbone_net.resnet.layer1.0.bn3.running_var', 'module.backbone_net.resnet.layer1.0.bn3.num_batches_tracked', 'module.backbone_net.resnet.layer1.0.downsample.0.weight', 'module.backbone_net.resnet.layer1.0.downsample.1.weight', 'module.backbone_net.resnet.layer1.0.downsample.1.bias', 'module.backbone_net.resnet.layer1.0.downsample.1.running_mean', 'module.backbone_net.resnet.layer1.0.downsample.1.running_var', 'module.backbone_net.resnet.layer1.0.downsample.1.num_batches_tracked', 'module.backbone_net.resnet.layer1.1.conv1.weight', 'module.backbone_net.resnet.layer1.1.bn1.weight', 'module.backbone_net.resnet.layer1.1.bn1.bias', 'module.backbone_net.resnet.layer1.1.bn1.running_mean', 'module.backbone_net.resnet.layer1.1.bn1.running_var', 'module.backbone_net.resnet.layer1.1.bn1.num_batches_tracked', 'module.backbone_net.resnet.layer1.1.conv2.weight', 'module.backbone_net.resnet.layer1.1.bn2.weight', 'module.backbone_net.resnet.layer1.1.bn2.bias', 'module.backbone_net.resnet.layer1.1.bn2.running_mean', 'module.backbone_net.resnet.layer1.1.bn2.running_var', 'module.backbone_net.resnet.layer1.1.bn2.num_batches_tracked', 'module.backbone_net.resnet.layer1.1.conv3.weight', 'module.backbone_net.resnet.layer1.1.bn3.weight', 'module.backbone_net.resnet.layer1.1.bn3.bias', 'module.backbone_net.resnet.layer1.1.bn3.running_mean', 'module.backbone_net.resnet.layer1.1.bn3.running_var', 'module.backbone_net.resnet.layer1.1.bn3.num_batches_tracked', 'module.backbone_net.resnet.layer1.2.conv1.weight', 'module.backbone_net.resnet.layer1.2.bn1.weight', 'module.backbone_net.resnet.layer1.2.bn1.bias', 'module.backbone_net.resnet.layer1.2.bn1.running_mean', 'module.backbone_net.resnet.layer1.2.bn1.running_var', 'module.backbone_net.resnet.layer1.2.bn1.num_batches_tracked', 'module.backbone_net.resnet.layer1.2.conv2.weight', 'module.backbone_net.resnet.layer1.2.bn2.weight', 'module.backbone_net.resnet.layer1.2.bn2.bias', 'module.backbone_net.resnet.layer1.2.bn2.running_mean', 'module.backbone_net.resnet.layer1.2.bn2.running_var', 'module.backbone_net.resnet.layer1.2.bn2.num_batches_tracked', 'module.backbone_net.resnet.layer1.2.conv3.weight', 'module.backbone_net.resnet.layer1.2.bn3.weight', 'module.backbone_net.resnet.layer1.2.bn3.bias', 'module.backbone_net.resnet.layer1.2.bn3.running_mean', 'module.backbone_net.resnet.layer1.2.bn3.running_var', 'module.backbone_net.resnet.layer1.2.bn3.num_batches_tracked', 'module.backbone_net.resnet.layer2.0.conv1.weight', 'module.backbone_net.resnet.layer2.0.bn1.weight', 'module.backbone_net.resnet.layer2.0.bn1.bias', 'module.backbone_net.resnet.layer2.0.bn1.running_mean', 'module.backbone_net.resnet.layer2.0.bn1.running_var', 'module.backbone_net.resnet.layer2.0.bn1.num_batches_tracked', 'module.backbone_net.resnet.layer2.0.conv2.weight', 'module.backbone_net.resnet.layer2.0.bn2.weight', 'module.backbone_net.resnet.layer2.0.bn2.bias', 'module.backbone_net.resnet.layer2.0.bn2.running_mean', 'module.backbone_net.resnet.layer2.0.bn2.running_var', 'module.backbone_net.resnet.layer2.0.bn2.num_batches_tracked', 'module.backbone_net.resnet.layer2.0.conv3.weight', 'module.backbone_net.resnet.layer2.0.bn3.weight', 'module.backbone_net.resnet.layer2.0.bn3.bias', 'module.backbone_net.resnet.layer2.0.bn3.running_mean', 'module.backbone_net.resnet.layer2.0.bn3.running_var', 'module.backbone_net.resnet.layer2.0.bn3.num_batches_tracked', 'module.backbone_net.resnet.layer2.0.downsample.0.weight', 'module.backbone_net.resnet.layer2.0.downsample.1.weight', 'module.backbone_net.resnet.layer2.0.downsample.1.bias', 'module.backbone_net.resnet.layer2.0.downsample.1.running_mean', 'module.backbone_net.resnet.layer2.0.downsample.1.running_var', 'module.backbone_net.resnet.layer2.0.downsample.1.num_batches_tracked', 'module.backbone_net.resnet.layer2.1.conv1.weight', 'module.backbone_net.resnet.layer2.1.bn1.weight', 'module.backbone_net.resnet.layer2.1.bn1.bias', 'module.backbone_net.resnet.layer2.1.bn1.running_mean', 'module.backbone_net.resnet.layer2.1.bn1.running_var', 'module.backbone_net.resnet.layer2.1.bn1.num_batches_tracked', 'module.backbone_net.resnet.layer2.1.conv2.weight', 'module.backbone_net.resnet.layer2.1.bn2.weight', 'module.backbone_net.resnet.layer2.1.bn2.bias', 'module.backbone_net.resnet.layer2.1.bn2.running_mean', 'module.backbone_net.resnet.layer2.1.bn2.running_var', 'module.backbone_net.resnet.layer2.1.bn2.num_batches_tracked', 'module.backbone_net.resnet.layer2.1.conv3.weight', 'module.backbone_net.resnet.layer2.1.bn3.weight', 'module.backbone_net.resnet.layer2.1.bn3.bias', 'module.backbone_net.resnet.layer2.1.bn3.running_mean', 'module.backbone_net.resnet.layer2.1.bn3.running_var', 'module.backbone_net.resnet.layer2.1.bn3.num_batches_tracked', 'module.backbone_net.resnet.layer2.2.conv1.weight', 'module.backbone_net.resnet.layer2.2.bn1.weight', 'module.backbone_net.resnet.layer2.2.bn1.bias', 'module.backbone_net.resnet.layer2.2.bn1.running_mean', 'module.backbone_net.resnet.layer2.2.bn1.running_var', 'module.backbone_net.resnet.layer2.2.bn1.num_batches_tracked', 'module.backbone_net.resnet.layer2.2.conv2.weight', 'module.backbone_net.resnet.layer2.2.bn2.weight', 'module.backbone_net.resnet.layer2.2.bn2.bias', 'module.backbone_net.resnet.layer2.2.bn2.running_mean', 'module.backbone_net.resnet.layer2.2.bn2.running_var', 'module.backbone_net.resnet.layer2.2.bn2.num_batches_tracked', 'module.backbone_net.resnet.layer2.2.conv3.weight', 'module.backbone_net.resnet.layer2.2.bn3.weight', 'module.backbone_net.resnet.layer2.2.bn3.bias', 'module.backbone_net.resnet.layer2.2.bn3.running_mean', 'module.backbone_net.resnet.layer2.2.bn3.running_var', 'module.backbone_net.resnet.layer2.2.bn3.num_batches_tracked', 'module.backbone_net.resnet.layer2.3.conv1.weight', 'module.backbone_net.resnet.layer2.3.bn1.weight', 'module.backbone_net.resnet.layer2.3.bn1.bias', 'module.backbone_net.resnet.layer2.3.bn1.running_mean', 'module.backbone_net.resnet.layer2.3.bn1.running_var', 'module.backbone_net.resnet.layer2.3.bn1.num_batches_tracked', 'module.backbone_net.resnet.layer2.3.conv2.weight', 'module.backbone_net.resnet.layer2.3.bn2.weight', 'module.backbone_net.resnet.layer2.3.bn2.bias', 'module.backbone_net.resnet.layer2.3.bn2.running_mean', 'module.backbone_net.resnet.layer2.3.bn2.running_var', 'module.backbone_net.resnet.layer2.3.bn2.num_batches_tracked', 'module.backbone_net.resnet.layer2.3.conv3.weight', 'module.backbone_net.resnet.layer2.3.bn3.weight', 'module.backbone_net.resnet.layer2.3.bn3.bias', 'module.backbone_net.resnet.layer2.3.bn3.running_mean', 'module.backbone_net.resnet.layer2.3.bn3.running_var', 'module.backbone_net.resnet.layer2.3.bn3.num_batches_tracked', 'module.backbone_net.resnet.layer3.0.conv1.weight', 'module.backbone_net.resnet.layer3.0.bn1.weight', 'module.backbone_net.resnet.layer3.0.bn1.bias', 'module.backbone_net.resnet.layer3.0.bn1.running_mean', 'module.backbone_net.resnet.layer3.0.bn1.running_var', 'module.backbone_net.resnet.layer3.0.bn1.num_batches_tracked', 'module.backbone_net.resnet.layer3.0.conv2.weight', 'module.backbone_net.resnet.layer3.0.bn2.weight', 'module.backbone_net.resnet.layer3.0.bn2.bias', 'module.backbone_net.resnet.layer3.0.bn2.running_mean', 'module.backbone_net.resnet.layer3.0.bn2.running_var', 'module.backbone_net.resnet.layer3.0.bn2.num_batches_tracked', 'module.backbone_net.resnet.layer3.0.conv3.weight', 'module.backbone_net.resnet.layer3.0.bn3.weight', 'module.backbone_net.resnet.layer3.0.bn3.bias', 'module.backbone_net.resnet.layer3.0.bn3.running_mean', 'module.backbone_net.resnet.layer3.0.bn3.running_var', 'module.backbone_net.resnet.layer3.0.bn3.num_batches_tracked', 'module.backbone_net.resnet.layer3.0.downsample.0.weight', 'module.backbone_net.resnet.layer3.0.downsample.1.weight', 'module.backbone_net.resnet.layer3.0.downsample.1.bias', 'module.backbone_net.resnet.layer3.0.downsample.1.running_mean', 'module.backbone_net.resnet.layer3.0.downsample.1.running_var', 'module.backbone_net.resnet.layer3.0.downsample.1.num_batches_tracked', 'module.backbone_net.resnet.layer3.1.conv1.weight', 'module.backbone_net.resnet.layer3.1.bn1.weight', 'module.backbone_net.resnet.layer3.1.bn1.bias', 'module.backbone_net.resnet.layer3.1.bn1.running_mean', 'module.backbone_net.resnet.layer3.1.bn1.running_var', 'module.backbone_net.resnet.layer3.1.bn1.num_batches_tracked', 'module.backbone_net.resnet.layer3.1.conv2.weight', 'module.backbone_net.resnet.layer3.1.bn2.weight', 'module.backbone_net.resnet.layer3.1.bn2.bias', 'module.backbone_net.resnet.layer3.1.bn2.running_mean', 'module.backbone_net.resnet.layer3.1.bn2.running_var', 'module.backbone_net.resnet.layer3.1.bn2.num_batches_tracked', 'module.backbone_net.resnet.layer3.1.conv3.weight', 'module.backbone_net.resnet.layer3.1.bn3.weight', 'module.backbone_net.resnet.layer3.1.bn3.bias', 'module.backbone_net.resnet.layer3.1.bn3.running_mean', 'module.backbone_net.resnet.layer3.1.bn3.running_var', 'module.backbone_net.resnet.layer3.1.bn3.num_batches_tracked', 'module.backbone_net.resnet.layer3.2.conv1.weight', 'module.backbone_net.resnet.layer3.2.bn1.weight', 'module.backbone_net.resnet.layer3.2.bn1.bias', 'module.backbone_net.resnet.layer3.2.bn1.running_mean', 'module.backbone_net.resnet.layer3.2.bn1.running_var', 'module.backbone_net.resnet.layer3.2.bn1.num_batches_tracked', 'module.backbone_net.resnet.layer3.2.conv2.weight', 'module.backbone_net.resnet.layer3.2.bn2.weight', 'module.backbone_net.resnet.layer3.2.bn2.bias', 'module.backbone_net.resnet.layer3.2.bn2.running_mean', 'module.backbone_net.resnet.layer3.2.bn2.running_var', 'module.backbone_net.resnet.layer3.2.bn2.num_batches_tracked', 'module.backbone_net.resnet.layer3.2.conv3.weight', 'module.backbone_net.resnet.layer3.2.bn3.weight', 'module.backbone_net.resnet.layer3.2.bn3.bias', 'module.backbone_net.resnet.layer3.2.bn3.running_mean', 'module.backbone_net.resnet.layer3.2.bn3.running_var', 'module.backbone_net.resnet.layer3.2.bn3.num_batches_tracked', 'module.backbone_net.resnet.layer3.3.conv1.weight', 'module.backbone_net.resnet.layer3.3.bn1.weight', 'module.backbone_net.resnet.layer3.3.bn1.bias', 'module.backbone_net.resnet.layer3.3.bn1.running_mean', 'module.backbone_net.resnet.layer3.3.bn1.running_var', 'module.backbone_net.resnet.layer3.3.bn1.num_batches_tracked', 'module.backbone_net.resnet.layer3.3.conv2.weight', 'module.backbone_net.resnet.layer3.3.bn2.weight', 'module.backbone_net.resnet.layer3.3.bn2.bias', 'module.backbone_net.resnet.layer3.3.bn2.running_mean', 'module.backbone_net.resnet.layer3.3.bn2.running_var', 'module.backbone_net.resnet.layer3.3.bn2.num_batches_tracked', 'module.backbone_net.resnet.layer3.3.conv3.weight', 'module.backbone_net.resnet.layer3.3.bn3.weight', 'module.backbone_net.resnet.layer3.3.bn3.bias', 'module.backbone_net.resnet.layer3.3.bn3.running_mean', 'module.backbone_net.resnet.layer3.3.bn3.running_var', 'module.backbone_net.resnet.layer3.3.bn3.num_batches_tracked', 'module.backbone_net.resnet.layer3.4.conv1.weight', 'module.backbone_net.resnet.layer3.4.bn1.weight', 'module.backbone_net.resnet.layer3.4.bn1.bias', 'module.backbone_net.resnet.layer3.4.bn1.running_mean', 'module.backbone_net.resnet.layer3.4.bn1.running_var', 'module.backbone_net.resnet.layer3.4.bn1.num_batches_tracked', 'module.backbone_net.resnet.layer3.4.conv2.weight', 'module.backbone_net.resnet.layer3.4.bn2.weight', 'module.backbone_net.resnet.layer3.4.bn2.bias', 'module.backbone_net.resnet.layer3.4.bn2.running_mean', 'module.backbone_net.resnet.layer3.4.bn2.running_var', 'module.backbone_net.resnet.layer3.4.bn2.num_batches_tracked', 'module.backbone_net.resnet.layer3.4.conv3.weight', 'module.backbone_net.resnet.layer3.4.bn3.weight', 'module.backbone_net.resnet.layer3.4.bn3.bias', 'module.backbone_net.resnet.layer3.4.bn3.running_mean', 'module.backbone_net.resnet.layer3.4.bn3.running_var', 'module.backbone_net.resnet.layer3.4.bn3.num_batches_tracked', 'module.backbone_net.resnet.layer3.5.conv1.weight', 'module.backbone_net.resnet.layer3.5.bn1.weight', 'module.backbone_net.resnet.layer3.5.bn1.bias', 'module.backbone_net.resnet.layer3.5.bn1.running_mean', 'module.backbone_net.resnet.layer3.5.bn1.running_var', 'module.backbone_net.resnet.layer3.5.bn1.num_batches_tracked', 'module.backbone_net.resnet.layer3.5.conv2.weight', 'module.backbone_net.resnet.layer3.5.bn2.weight', 'module.backbone_net.resnet.layer3.5.bn2.bias', 'module.backbone_net.resnet.layer3.5.bn2.running_mean', 'module.backbone_net.resnet.layer3.5.bn2.running_var', 'module.backbone_net.resnet.layer3.5.bn2.num_batches_tracked', 'module.backbone_net.resnet.layer3.5.conv3.weight', 'module.backbone_net.resnet.layer3.5.bn3.weight', 'module.backbone_net.resnet.layer3.5.bn3.bias', 'module.backbone_net.resnet.layer3.5.bn3.running_mean', 'module.backbone_net.resnet.layer3.5.bn3.running_var', 'module.backbone_net.resnet.layer3.5.bn3.num_batches_tracked', 'module.backbone_net.resnet.layer4.0.conv1.weight', 'module.backbone_net.resnet.layer4.0.bn1.weight', 'module.backbone_net.resnet.layer4.0.bn1.bias', 'module.backbone_net.resnet.layer4.0.bn1.running_mean', 'module.backbone_net.resnet.layer4.0.bn1.running_var', 'module.backbone_net.resnet.layer4.0.bn1.num_batches_tracked', 'module.backbone_net.resnet.layer4.0.conv2.weight', 'module.backbone_net.resnet.layer4.0.bn2.weight', 'module.backbone_net.resnet.layer4.0.bn2.bias', 'module.backbone_net.resnet.layer4.0.bn2.running_mean', 'module.backbone_net.resnet.layer4.0.bn2.running_var', 'module.backbone_net.resnet.layer4.0.bn2.num_batches_tracked', 'module.backbone_net.resnet.layer4.0.conv3.weight', 'module.backbone_net.resnet.layer4.0.bn3.weight', 'module.backbone_net.resnet.layer4.0.bn3.bias', 'module.backbone_net.resnet.layer4.0.bn3.running_mean', 'module.backbone_net.resnet.layer4.0.bn3.running_var', 'module.backbone_net.resnet.layer4.0.bn3.num_batches_tracked', 'module.backbone_net.resnet.layer4.0.downsample.0.weight', 'module.backbone_net.resnet.layer4.0.downsample.1.weight', 'module.backbone_net.resnet.layer4.0.downsample.1.bias', 'module.backbone_net.resnet.layer4.0.downsample.1.running_mean', 'module.backbone_net.resnet.layer4.0.downsample.1.running_var', 'module.backbone_net.resnet.layer4.0.downsample.1.num_batches_tracked', 'module.backbone_net.resnet.layer4.1.conv1.weight', 'module.backbone_net.resnet.layer4.1.bn1.weight', 'module.backbone_net.resnet.layer4.1.bn1.bias', 'module.backbone_net.resnet.layer4.1.bn1.running_mean', 'module.backbone_net.resnet.layer4.1.bn1.running_var', 'module.backbone_net.resnet.layer4.1.bn1.num_batches_tracked', 'module.backbone_net.resnet.layer4.1.conv2.weight', 'module.backbone_net.resnet.layer4.1.bn2.weight', 'module.backbone_net.resnet.layer4.1.bn2.bias', 'module.backbone_net.resnet.layer4.1.bn2.running_mean', 'module.backbone_net.resnet.layer4.1.bn2.running_var', 'module.backbone_net.resnet.layer4.1.bn2.num_batches_tracked', 'module.backbone_net.resnet.layer4.1.conv3.weight', 'module.backbone_net.resnet.layer4.1.bn3.weight', 'module.backbone_net.resnet.layer4.1.bn3.bias', 'module.backbone_net.resnet.layer4.1.bn3.running_mean', 'module.backbone_net.resnet.layer4.1.bn3.running_var', 'module.backbone_net.resnet.layer4.1.bn3.num_batches_tracked', 'module.backbone_net.resnet.layer4.2.conv1.weight', 'module.backbone_net.resnet.layer4.2.bn1.weight', 'module.backbone_net.resnet.layer4.2.bn1.bias', 'module.backbone_net.resnet.layer4.2.bn1.running_mean', 'module.backbone_net.resnet.layer4.2.bn1.running_var', 'module.backbone_net.resnet.layer4.2.bn1.num_batches_tracked', 'module.backbone_net.resnet.layer4.2.conv2.weight', 'module.backbone_net.resnet.layer4.2.bn2.weight', 'module.backbone_net.resnet.layer4.2.bn2.bias', 'module.backbone_net.resnet.layer4.2.bn2.running_mean', 'module.backbone_net.resnet.layer4.2.bn2.running_var', 'module.backbone_net.resnet.layer4.2.bn2.num_batches_tracked', 'module.backbone_net.resnet.layer4.2.conv3.weight', 'module.backbone_net.resnet.layer4.2.bn3.weight', 'module.backbone_net.resnet.layer4.2.bn3.bias', 'module.backbone_net.resnet.layer4.2.bn3.running_mean', 'module.backbone_net.resnet.layer4.2.bn3.running_var', 'module.backbone_net.resnet.layer4.2.bn3.num_batches_tracked', 'module.pose_net.joint_deconv_1.0.weight', 'module.pose_net.joint_deconv_1.1.weight', 'module.pose_net.joint_deconv_1.1.bias', 'module.pose_net.joint_deconv_1.1.running_mean', 'module.pose_net.joint_deconv_1.1.running_var', 'module.pose_net.joint_deconv_1.1.num_batches_tracked', 'module.pose_net.joint_deconv_1.3.weight', 'module.pose_net.joint_deconv_1.4.weight', 'module.pose_net.joint_deconv_1.4.bias', 'module.pose_net.joint_deconv_1.4.running_mean', 'module.pose_net.joint_deconv_1.4.running_var', 'module.pose_net.joint_deconv_1.4.num_batches_tracked', 'module.pose_net.joint_deconv_1.6.weight', 'module.pose_net.joint_deconv_1.7.weight', 'module.pose_net.joint_deconv_1.7.bias', 'module.pose_net.joint_deconv_1.7.running_mean', 'module.pose_net.joint_deconv_1.7.running_var', 'module.pose_net.joint_deconv_1.7.num_batches_tracked', 'module.pose_net.joint_conv_1.0.weight', 'module.pose_net.joint_conv_1.0.bias', 'module.pose_net.joint_deconv_2.0.weight', 'module.pose_net.joint_deconv_2.1.weight', 'module.pose_net.joint_deconv_2.1.bias', 'module.pose_net.joint_deconv_2.1.running_mean', 'module.pose_net.joint_deconv_2.1.running_var', 'module.pose_net.joint_deconv_2.1.num_batches_tracked', 'module.pose_net.joint_deconv_2.3.weight', 'module.pose_net.joint_deconv_2.4.weight', 'module.pose_net.joint_deconv_2.4.bias', 'module.pose_net.joint_deconv_2.4.running_mean', 'module.pose_net.joint_deconv_2.4.running_var', 'module.pose_net.joint_deconv_2.4.num_batches_tracked', 'module.pose_net.joint_deconv_2.6.weight', 'module.pose_net.joint_deconv_2.7.weight', 'module.pose_net.joint_deconv_2.7.bias', 'module.pose_net.joint_deconv_2.7.running_mean', 'module.pose_net.joint_deconv_2.7.running_var', 'module.pose_net.joint_deconv_2.7.num_batches_tracked', 'module.pose_net.joint_conv_2.0.weight', 'module.pose_net.joint_conv_2.0.bias', 'module.pose_net.root_fc.0.weight', 'module.pose_net.root_fc.0.bias', 'module.pose_net.root_fc.2.weight', 'module.pose_net.root_fc.2.bias', 'module.pose_net.hand_fc.0.weight', 'module.pose_net.hand_fc.0.bias', 'module.pose_net.hand_fc.2.weight', 'module.pose_net.hand_fc.2.bias'])"
      ]
     },
     "execution_count": 4,
     "metadata": {},
     "output_type": "execute_result"
    }
   ],
   "source": [
    "# Load the model's state_dict from the 'network' key\n",
    "model_instance.load_state_dict(network,strict=False)"
   ]
  },
  {
   "cell_type": "markdown",
   "metadata": {},
   "source": [
    "Model Moving"
   ]
  },
  {
   "cell_type": "code",
   "execution_count": 5,
   "metadata": {},
   "outputs": [
    {
     "data": {
      "text/plain": [
       "Model(\n",
       "  (backbone_net): BackboneNet(\n",
       "    (resnet): ResNetBackbone(\n",
       "      (conv1): Conv2d(3, 64, kernel_size=(7, 7), stride=(2, 2), padding=(3, 3), bias=False)\n",
       "      (bn1): BatchNorm2d(64, eps=1e-05, momentum=0.1, affine=True, track_running_stats=True)\n",
       "      (relu): ReLU(inplace=True)\n",
       "      (maxpool): MaxPool2d(kernel_size=3, stride=2, padding=1, dilation=1, ceil_mode=False)\n",
       "      (layer1): Sequential(\n",
       "        (0): Bottleneck(\n",
       "          (conv1): Conv2d(64, 64, kernel_size=(1, 1), stride=(1, 1), bias=False)\n",
       "          (bn1): BatchNorm2d(64, eps=1e-05, momentum=0.1, affine=True, track_running_stats=True)\n",
       "          (conv2): Conv2d(64, 64, kernel_size=(3, 3), stride=(1, 1), padding=(1, 1), bias=False)\n",
       "          (bn2): BatchNorm2d(64, eps=1e-05, momentum=0.1, affine=True, track_running_stats=True)\n",
       "          (conv3): Conv2d(64, 256, kernel_size=(1, 1), stride=(1, 1), bias=False)\n",
       "          (bn3): BatchNorm2d(256, eps=1e-05, momentum=0.1, affine=True, track_running_stats=True)\n",
       "          (relu): ReLU(inplace=True)\n",
       "          (downsample): Sequential(\n",
       "            (0): Conv2d(64, 256, kernel_size=(1, 1), stride=(1, 1), bias=False)\n",
       "            (1): BatchNorm2d(256, eps=1e-05, momentum=0.1, affine=True, track_running_stats=True)\n",
       "          )\n",
       "        )\n",
       "        (1): Bottleneck(\n",
       "          (conv1): Conv2d(256, 64, kernel_size=(1, 1), stride=(1, 1), bias=False)\n",
       "          (bn1): BatchNorm2d(64, eps=1e-05, momentum=0.1, affine=True, track_running_stats=True)\n",
       "          (conv2): Conv2d(64, 64, kernel_size=(3, 3), stride=(1, 1), padding=(1, 1), bias=False)\n",
       "          (bn2): BatchNorm2d(64, eps=1e-05, momentum=0.1, affine=True, track_running_stats=True)\n",
       "          (conv3): Conv2d(64, 256, kernel_size=(1, 1), stride=(1, 1), bias=False)\n",
       "          (bn3): BatchNorm2d(256, eps=1e-05, momentum=0.1, affine=True, track_running_stats=True)\n",
       "          (relu): ReLU(inplace=True)\n",
       "        )\n",
       "        (2): Bottleneck(\n",
       "          (conv1): Conv2d(256, 64, kernel_size=(1, 1), stride=(1, 1), bias=False)\n",
       "          (bn1): BatchNorm2d(64, eps=1e-05, momentum=0.1, affine=True, track_running_stats=True)\n",
       "          (conv2): Conv2d(64, 64, kernel_size=(3, 3), stride=(1, 1), padding=(1, 1), bias=False)\n",
       "          (bn2): BatchNorm2d(64, eps=1e-05, momentum=0.1, affine=True, track_running_stats=True)\n",
       "          (conv3): Conv2d(64, 256, kernel_size=(1, 1), stride=(1, 1), bias=False)\n",
       "          (bn3): BatchNorm2d(256, eps=1e-05, momentum=0.1, affine=True, track_running_stats=True)\n",
       "          (relu): ReLU(inplace=True)\n",
       "        )\n",
       "      )\n",
       "      (layer2): Sequential(\n",
       "        (0): Bottleneck(\n",
       "          (conv1): Conv2d(256, 128, kernel_size=(1, 1), stride=(1, 1), bias=False)\n",
       "          (bn1): BatchNorm2d(128, eps=1e-05, momentum=0.1, affine=True, track_running_stats=True)\n",
       "          (conv2): Conv2d(128, 128, kernel_size=(3, 3), stride=(2, 2), padding=(1, 1), bias=False)\n",
       "          (bn2): BatchNorm2d(128, eps=1e-05, momentum=0.1, affine=True, track_running_stats=True)\n",
       "          (conv3): Conv2d(128, 512, kernel_size=(1, 1), stride=(1, 1), bias=False)\n",
       "          (bn3): BatchNorm2d(512, eps=1e-05, momentum=0.1, affine=True, track_running_stats=True)\n",
       "          (relu): ReLU(inplace=True)\n",
       "          (downsample): Sequential(\n",
       "            (0): Conv2d(256, 512, kernel_size=(1, 1), stride=(2, 2), bias=False)\n",
       "            (1): BatchNorm2d(512, eps=1e-05, momentum=0.1, affine=True, track_running_stats=True)\n",
       "          )\n",
       "        )\n",
       "        (1): Bottleneck(\n",
       "          (conv1): Conv2d(512, 128, kernel_size=(1, 1), stride=(1, 1), bias=False)\n",
       "          (bn1): BatchNorm2d(128, eps=1e-05, momentum=0.1, affine=True, track_running_stats=True)\n",
       "          (conv2): Conv2d(128, 128, kernel_size=(3, 3), stride=(1, 1), padding=(1, 1), bias=False)\n",
       "          (bn2): BatchNorm2d(128, eps=1e-05, momentum=0.1, affine=True, track_running_stats=True)\n",
       "          (conv3): Conv2d(128, 512, kernel_size=(1, 1), stride=(1, 1), bias=False)\n",
       "          (bn3): BatchNorm2d(512, eps=1e-05, momentum=0.1, affine=True, track_running_stats=True)\n",
       "          (relu): ReLU(inplace=True)\n",
       "        )\n",
       "        (2): Bottleneck(\n",
       "          (conv1): Conv2d(512, 128, kernel_size=(1, 1), stride=(1, 1), bias=False)\n",
       "          (bn1): BatchNorm2d(128, eps=1e-05, momentum=0.1, affine=True, track_running_stats=True)\n",
       "          (conv2): Conv2d(128, 128, kernel_size=(3, 3), stride=(1, 1), padding=(1, 1), bias=False)\n",
       "          (bn2): BatchNorm2d(128, eps=1e-05, momentum=0.1, affine=True, track_running_stats=True)\n",
       "          (conv3): Conv2d(128, 512, kernel_size=(1, 1), stride=(1, 1), bias=False)\n",
       "          (bn3): BatchNorm2d(512, eps=1e-05, momentum=0.1, affine=True, track_running_stats=True)\n",
       "          (relu): ReLU(inplace=True)\n",
       "        )\n",
       "        (3): Bottleneck(\n",
       "          (conv1): Conv2d(512, 128, kernel_size=(1, 1), stride=(1, 1), bias=False)\n",
       "          (bn1): BatchNorm2d(128, eps=1e-05, momentum=0.1, affine=True, track_running_stats=True)\n",
       "          (conv2): Conv2d(128, 128, kernel_size=(3, 3), stride=(1, 1), padding=(1, 1), bias=False)\n",
       "          (bn2): BatchNorm2d(128, eps=1e-05, momentum=0.1, affine=True, track_running_stats=True)\n",
       "          (conv3): Conv2d(128, 512, kernel_size=(1, 1), stride=(1, 1), bias=False)\n",
       "          (bn3): BatchNorm2d(512, eps=1e-05, momentum=0.1, affine=True, track_running_stats=True)\n",
       "          (relu): ReLU(inplace=True)\n",
       "        )\n",
       "      )\n",
       "      (layer3): Sequential(\n",
       "        (0): Bottleneck(\n",
       "          (conv1): Conv2d(512, 256, kernel_size=(1, 1), stride=(1, 1), bias=False)\n",
       "          (bn1): BatchNorm2d(256, eps=1e-05, momentum=0.1, affine=True, track_running_stats=True)\n",
       "          (conv2): Conv2d(256, 256, kernel_size=(3, 3), stride=(2, 2), padding=(1, 1), bias=False)\n",
       "          (bn2): BatchNorm2d(256, eps=1e-05, momentum=0.1, affine=True, track_running_stats=True)\n",
       "          (conv3): Conv2d(256, 1024, kernel_size=(1, 1), stride=(1, 1), bias=False)\n",
       "          (bn3): BatchNorm2d(1024, eps=1e-05, momentum=0.1, affine=True, track_running_stats=True)\n",
       "          (relu): ReLU(inplace=True)\n",
       "          (downsample): Sequential(\n",
       "            (0): Conv2d(512, 1024, kernel_size=(1, 1), stride=(2, 2), bias=False)\n",
       "            (1): BatchNorm2d(1024, eps=1e-05, momentum=0.1, affine=True, track_running_stats=True)\n",
       "          )\n",
       "        )\n",
       "        (1): Bottleneck(\n",
       "          (conv1): Conv2d(1024, 256, kernel_size=(1, 1), stride=(1, 1), bias=False)\n",
       "          (bn1): BatchNorm2d(256, eps=1e-05, momentum=0.1, affine=True, track_running_stats=True)\n",
       "          (conv2): Conv2d(256, 256, kernel_size=(3, 3), stride=(1, 1), padding=(1, 1), bias=False)\n",
       "          (bn2): BatchNorm2d(256, eps=1e-05, momentum=0.1, affine=True, track_running_stats=True)\n",
       "          (conv3): Conv2d(256, 1024, kernel_size=(1, 1), stride=(1, 1), bias=False)\n",
       "          (bn3): BatchNorm2d(1024, eps=1e-05, momentum=0.1, affine=True, track_running_stats=True)\n",
       "          (relu): ReLU(inplace=True)\n",
       "        )\n",
       "        (2): Bottleneck(\n",
       "          (conv1): Conv2d(1024, 256, kernel_size=(1, 1), stride=(1, 1), bias=False)\n",
       "          (bn1): BatchNorm2d(256, eps=1e-05, momentum=0.1, affine=True, track_running_stats=True)\n",
       "          (conv2): Conv2d(256, 256, kernel_size=(3, 3), stride=(1, 1), padding=(1, 1), bias=False)\n",
       "          (bn2): BatchNorm2d(256, eps=1e-05, momentum=0.1, affine=True, track_running_stats=True)\n",
       "          (conv3): Conv2d(256, 1024, kernel_size=(1, 1), stride=(1, 1), bias=False)\n",
       "          (bn3): BatchNorm2d(1024, eps=1e-05, momentum=0.1, affine=True, track_running_stats=True)\n",
       "          (relu): ReLU(inplace=True)\n",
       "        )\n",
       "        (3): Bottleneck(\n",
       "          (conv1): Conv2d(1024, 256, kernel_size=(1, 1), stride=(1, 1), bias=False)\n",
       "          (bn1): BatchNorm2d(256, eps=1e-05, momentum=0.1, affine=True, track_running_stats=True)\n",
       "          (conv2): Conv2d(256, 256, kernel_size=(3, 3), stride=(1, 1), padding=(1, 1), bias=False)\n",
       "          (bn2): BatchNorm2d(256, eps=1e-05, momentum=0.1, affine=True, track_running_stats=True)\n",
       "          (conv3): Conv2d(256, 1024, kernel_size=(1, 1), stride=(1, 1), bias=False)\n",
       "          (bn3): BatchNorm2d(1024, eps=1e-05, momentum=0.1, affine=True, track_running_stats=True)\n",
       "          (relu): ReLU(inplace=True)\n",
       "        )\n",
       "        (4): Bottleneck(\n",
       "          (conv1): Conv2d(1024, 256, kernel_size=(1, 1), stride=(1, 1), bias=False)\n",
       "          (bn1): BatchNorm2d(256, eps=1e-05, momentum=0.1, affine=True, track_running_stats=True)\n",
       "          (conv2): Conv2d(256, 256, kernel_size=(3, 3), stride=(1, 1), padding=(1, 1), bias=False)\n",
       "          (bn2): BatchNorm2d(256, eps=1e-05, momentum=0.1, affine=True, track_running_stats=True)\n",
       "          (conv3): Conv2d(256, 1024, kernel_size=(1, 1), stride=(1, 1), bias=False)\n",
       "          (bn3): BatchNorm2d(1024, eps=1e-05, momentum=0.1, affine=True, track_running_stats=True)\n",
       "          (relu): ReLU(inplace=True)\n",
       "        )\n",
       "        (5): Bottleneck(\n",
       "          (conv1): Conv2d(1024, 256, kernel_size=(1, 1), stride=(1, 1), bias=False)\n",
       "          (bn1): BatchNorm2d(256, eps=1e-05, momentum=0.1, affine=True, track_running_stats=True)\n",
       "          (conv2): Conv2d(256, 256, kernel_size=(3, 3), stride=(1, 1), padding=(1, 1), bias=False)\n",
       "          (bn2): BatchNorm2d(256, eps=1e-05, momentum=0.1, affine=True, track_running_stats=True)\n",
       "          (conv3): Conv2d(256, 1024, kernel_size=(1, 1), stride=(1, 1), bias=False)\n",
       "          (bn3): BatchNorm2d(1024, eps=1e-05, momentum=0.1, affine=True, track_running_stats=True)\n",
       "          (relu): ReLU(inplace=True)\n",
       "        )\n",
       "      )\n",
       "      (layer4): Sequential(\n",
       "        (0): Bottleneck(\n",
       "          (conv1): Conv2d(1024, 512, kernel_size=(1, 1), stride=(1, 1), bias=False)\n",
       "          (bn1): BatchNorm2d(512, eps=1e-05, momentum=0.1, affine=True, track_running_stats=True)\n",
       "          (conv2): Conv2d(512, 512, kernel_size=(3, 3), stride=(2, 2), padding=(1, 1), bias=False)\n",
       "          (bn2): BatchNorm2d(512, eps=1e-05, momentum=0.1, affine=True, track_running_stats=True)\n",
       "          (conv3): Conv2d(512, 2048, kernel_size=(1, 1), stride=(1, 1), bias=False)\n",
       "          (bn3): BatchNorm2d(2048, eps=1e-05, momentum=0.1, affine=True, track_running_stats=True)\n",
       "          (relu): ReLU(inplace=True)\n",
       "          (downsample): Sequential(\n",
       "            (0): Conv2d(1024, 2048, kernel_size=(1, 1), stride=(2, 2), bias=False)\n",
       "            (1): BatchNorm2d(2048, eps=1e-05, momentum=0.1, affine=True, track_running_stats=True)\n",
       "          )\n",
       "        )\n",
       "        (1): Bottleneck(\n",
       "          (conv1): Conv2d(2048, 512, kernel_size=(1, 1), stride=(1, 1), bias=False)\n",
       "          (bn1): BatchNorm2d(512, eps=1e-05, momentum=0.1, affine=True, track_running_stats=True)\n",
       "          (conv2): Conv2d(512, 512, kernel_size=(3, 3), stride=(1, 1), padding=(1, 1), bias=False)\n",
       "          (bn2): BatchNorm2d(512, eps=1e-05, momentum=0.1, affine=True, track_running_stats=True)\n",
       "          (conv3): Conv2d(512, 2048, kernel_size=(1, 1), stride=(1, 1), bias=False)\n",
       "          (bn3): BatchNorm2d(2048, eps=1e-05, momentum=0.1, affine=True, track_running_stats=True)\n",
       "          (relu): ReLU(inplace=True)\n",
       "        )\n",
       "        (2): Bottleneck(\n",
       "          (conv1): Conv2d(2048, 512, kernel_size=(1, 1), stride=(1, 1), bias=False)\n",
       "          (bn1): BatchNorm2d(512, eps=1e-05, momentum=0.1, affine=True, track_running_stats=True)\n",
       "          (conv2): Conv2d(512, 512, kernel_size=(3, 3), stride=(1, 1), padding=(1, 1), bias=False)\n",
       "          (bn2): BatchNorm2d(512, eps=1e-05, momentum=0.1, affine=True, track_running_stats=True)\n",
       "          (conv3): Conv2d(512, 2048, kernel_size=(1, 1), stride=(1, 1), bias=False)\n",
       "          (bn3): BatchNorm2d(2048, eps=1e-05, momentum=0.1, affine=True, track_running_stats=True)\n",
       "          (relu): ReLU(inplace=True)\n",
       "        )\n",
       "      )\n",
       "    )\n",
       "  )\n",
       "  (pose_net): PoseNet(\n",
       "    (joint_deconv_1): Sequential(\n",
       "      (0): ConvTranspose2d(2048, 256, kernel_size=(4, 4), stride=(2, 2), padding=(1, 1), bias=False)\n",
       "      (1): BatchNorm2d(256, eps=1e-05, momentum=0.1, affine=True, track_running_stats=True)\n",
       "      (2): ReLU(inplace=True)\n",
       "      (3): ConvTranspose2d(256, 256, kernel_size=(4, 4), stride=(2, 2), padding=(1, 1), bias=False)\n",
       "      (4): BatchNorm2d(256, eps=1e-05, momentum=0.1, affine=True, track_running_stats=True)\n",
       "      (5): ReLU(inplace=True)\n",
       "      (6): ConvTranspose2d(256, 256, kernel_size=(4, 4), stride=(2, 2), padding=(1, 1), bias=False)\n",
       "      (7): BatchNorm2d(256, eps=1e-05, momentum=0.1, affine=True, track_running_stats=True)\n",
       "      (8): ReLU(inplace=True)\n",
       "    )\n",
       "    (joint_conv_1): Sequential(\n",
       "      (0): Conv2d(256, 1344, kernel_size=(1, 1), stride=(1, 1))\n",
       "    )\n",
       "    (joint_deconv_2): Sequential(\n",
       "      (0): ConvTranspose2d(2048, 256, kernel_size=(4, 4), stride=(2, 2), padding=(1, 1), bias=False)\n",
       "      (1): BatchNorm2d(256, eps=1e-05, momentum=0.1, affine=True, track_running_stats=True)\n",
       "      (2): ReLU(inplace=True)\n",
       "      (3): ConvTranspose2d(256, 256, kernel_size=(4, 4), stride=(2, 2), padding=(1, 1), bias=False)\n",
       "      (4): BatchNorm2d(256, eps=1e-05, momentum=0.1, affine=True, track_running_stats=True)\n",
       "      (5): ReLU(inplace=True)\n",
       "      (6): ConvTranspose2d(256, 256, kernel_size=(4, 4), stride=(2, 2), padding=(1, 1), bias=False)\n",
       "      (7): BatchNorm2d(256, eps=1e-05, momentum=0.1, affine=True, track_running_stats=True)\n",
       "      (8): ReLU(inplace=True)\n",
       "    )\n",
       "    (joint_conv_2): Sequential(\n",
       "      (0): Conv2d(256, 1344, kernel_size=(1, 1), stride=(1, 1))\n",
       "    )\n",
       "    (root_fc): Sequential(\n",
       "      (0): Linear(in_features=2048, out_features=512, bias=True)\n",
       "      (1): ReLU(inplace=True)\n",
       "      (2): Linear(in_features=512, out_features=64, bias=True)\n",
       "    )\n",
       "    (hand_fc): Sequential(\n",
       "      (0): Linear(in_features=2048, out_features=512, bias=True)\n",
       "      (1): ReLU(inplace=True)\n",
       "      (2): Linear(in_features=512, out_features=2, bias=True)\n",
       "    )\n",
       "  )\n",
       "  (joint_heatmap_loss): JointHeatmapLoss()\n",
       "  (rel_root_depth_loss): RelRootDepthLoss()\n",
       "  (hand_type_loss): HandTypeLoss()\n",
       ")"
      ]
     },
     "execution_count": 5,
     "metadata": {},
     "output_type": "execute_result"
    }
   ],
   "source": [
    "# Move the model to the appropriate device (CPU or GPU)\n",
    "device = torch.device(\"cuda\" if torch.cuda.is_available() else \"cpu\")\n",
    "model_instance.to(device)"
   ]
  },
  {
   "cell_type": "markdown",
   "metadata": {},
   "source": [
    "Loading Image of the Hand"
   ]
  },
  {
   "cell_type": "code",
   "execution_count": 6,
   "metadata": {},
   "outputs": [],
   "source": [
    "# Now you can use the 'model_instance' for inference or further training\n",
    "imsize = 256\n",
    "loader = transforms.Compose([transforms.ToTensor()])\n",
    "\n",
    "img_path = r\"C:\\Users\\user\\Desktop\\Codes\\SignLanguageProject\\InterHand2.6M\\input.jpg\"\n",
    "image = load_img(img_path)\n",
    "original_img_height, original_img_width = image.shape[:2]\n",
    "\n",
    "joint_num = 21 # single hand\n",
    "root_joint_idx = {'right': 20, 'left': 41}\n",
    "joint_type = {'right': np.arange(0,joint_num), 'left': np.arange(joint_num,joint_num*2)}\n",
    "skeleton = load_skeleton(r\"C:\\Users\\user\\Desktop\\Codes\\SignLanguageProject\\InterHand2.6M\\skeleton.txt\", joint_num*2)"
   ]
  },
  {
   "cell_type": "markdown",
   "metadata": {},
   "source": [
    "Preparing BBOX"
   ]
  },
  {
   "cell_type": "code",
   "execution_count": 7,
   "metadata": {},
   "outputs": [],
   "source": [
    "bbox = [69, 137, 165, 153] # xmin, ymin, width, height\n",
    "bbox = process_bbox(bbox, (original_img_height, original_img_width, original_img_height))\n",
    "img, trans, inv_trans = generate_patch_image(image, bbox, False, 1.0, 0.0, cfg.input_img_shape)\n",
    "transform = transforms.ToTensor()\n",
    "img = transform(img.astype(np.float32))/255\n",
    "img = img[None,:,:,:]\n",
    "model_instance.eval()\n",
    "inputs = {'img': img}\n",
    "targets = {}\n",
    "meta_info = {}\n",
    "with torch.no_grad():\n",
    "    out = model_instance(inputs, targets, meta_info, 'test')\n",
    "img = img[0].cpu().numpy().transpose(1,2,0) # cfg.input_img_shape[1], cfg.input_img_shape[0], 3\n",
    "joint_coord = out['joint_coord'][0].cpu().numpy() # x,y pixel, z root-relative discretized depth\n",
    "rel_root_depth = out['rel_root_depth'][0].cpu().numpy() # discretized depth\n",
    "hand_type = out['hand_type'][0].cpu().numpy() # handedness probability\n"
   ]
  },
  {
   "cell_type": "code",
   "execution_count": 8,
   "metadata": {},
   "outputs": [],
   "source": [
    "# restore joint coord to original image space and continuous depth space\n",
    "joint_coord[:,0] = joint_coord[:,0] / cfg.output_hm_shape[2] * cfg.input_img_shape[1]\n",
    "joint_coord[:,1] = joint_coord[:,1] / cfg.output_hm_shape[1] * cfg.input_img_shape[0]\n",
    "joint_coord[:,:2] = np.dot(inv_trans, np.concatenate((joint_coord[:,:2], np.ones_like(joint_coord[:,:1])),1).transpose(1,0)).transpose(1,0)\n",
    "joint_coord[:,2] = (joint_coord[:,2]/cfg.output_hm_shape[0] * 2 - 1) * (cfg.bbox_3d_size/2)"
   ]
  },
  {
   "cell_type": "code",
   "execution_count": 9,
   "metadata": {},
   "outputs": [],
   "source": [
    "# restore right hand-relative left hand depth to continuous depth space\n",
    "rel_root_depth = (rel_root_depth/cfg.output_root_hm_shape * 2 - 1) * (cfg.bbox_3d_size_root/2)\n",
    "\n",
    "# right hand root depth == 0, left hand root depth == rel_root_depth\n",
    "joint_coord[joint_type['left'],2] += rel_root_depth"
   ]
  },
  {
   "cell_type": "code",
   "execution_count": 10,
   "metadata": {},
   "outputs": [
    {
     "name": "stdout",
     "output_type": "stream",
     "text": [
      "Right hand exist: False Left hand exist: True\n"
     ]
    }
   ],
   "source": [
    "# handedness\n",
    "joint_valid = np.zeros((joint_num*2), dtype=np.float32)\n",
    "right_exist = False\n",
    "if hand_type[0] > 0.5: \n",
    "    right_exist = True\n",
    "    joint_valid[joint_type['right']] = 1\n",
    "left_exist = False\n",
    "if hand_type[1] > 0.5:\n",
    "    left_exist = True\n",
    "    joint_valid[joint_type['left']] = 1\n",
    "\n",
    "print('Right hand exist: ' + str(right_exist) + ' Left hand exist: ' + str(left_exist))\n"
   ]
  },
  {
   "cell_type": "code",
   "execution_count": 11,
   "metadata": {},
   "outputs": [
    {
     "name": "stdout",
     "output_type": "stream",
     "text": [
      "42\n"
     ]
    }
   ],
   "source": [
    "# visualize joint coord in 2D space\n",
    "filename = 'result_2d.jpg'\n",
    "vis_img = image.copy()[:,:,::-1].transpose(2,0,1)\n",
    "vis_img = vis_keypoints(vis_img, joint_coord, joint_valid, skeleton, filename, save_path='.')\n",
    "# visualize joint coord in 3D space\n",
    "# The 3D coordinate in here consists of x,y pixel and z root-relative depth.\n",
    "# To make x,y, and z in real unit (e.g., mm), you need to know camera intrincis and root depth.\n",
    "# The root depth can be obtained from RootNet (https://github.com/mks0601/3DMPPE_ROOTNET_RELEASE)\n",
    "filename = 'result_3d.jpg'\n",
    "vis_3d_keypoints(joint_coord, joint_valid, skeleton, filename)\n",
    "print(len(skeleton))"
   ]
  },
  {
   "cell_type": "code",
   "execution_count": 12,
   "metadata": {},
   "outputs": [],
   "source": [
    "import os\n",
    "import os.path as osp\n",
    "import cv2\n",
    "import numpy as np\n",
    "import matplotlib\n",
    "from common.utils.vis import get_keypoint_rgb\n",
    "matplotlib.use('tkagg')\n",
    "from mpl_toolkits.mplot3d import Axes3D\n",
    "import matplotlib.pyplot as plt\n",
    "import matplotlib as mpl\n",
    "from main.config import cfg\n",
    "from PIL import Image, ImageDraw"
   ]
  },
  {
   "cell_type": "code",
   "execution_count": 13,
   "metadata": {},
   "outputs": [],
   "source": [
    "# visualize joint coord in 2D space\n",
    "filename = 'result_2d.jpg'\n",
    "vis_img = image.copy()[:,:,::-1].transpose(2,0,1)\n",
    "rgb_dict = get_keypoint_rgb(skeleton)\n",
    "_img = Image.fromarray(vis_img.transpose(1,2,0).astype('uint8')) \n",
    "draw = ImageDraw.Draw(_img)"
   ]
  },
  {
   "cell_type": "code",
   "execution_count": 14,
   "metadata": {},
   "outputs": [
    {
     "name": "stdout",
     "output_type": "stream",
     "text": [
      "[(48.375, 110.375), (48.375, 110.375)]\n",
      "[(48.375, 110.375), (48.375, 110.375)]\n",
      "[(48.375, 110.375), (48.375, 110.375)]\n",
      "[(48.375, 110.375), (48.375, 110.375)]\n",
      "[(48.375, 110.375), (48.375, 110.375)]\n",
      "[(48.375, 110.375), (48.375, 110.375)]\n",
      "[(48.375, 110.375), (48.375, 110.375)]\n",
      "[(48.375, 110.375), (48.375, 110.375)]\n",
      "[(48.375, 110.375), (48.375, 110.375)]\n",
      "[(48.375, 110.375), (48.375, 110.375)]\n",
      "[(48.375, 110.375), (48.375, 110.375)]\n",
      "[(48.375, 110.375), (48.375, 110.375)]\n",
      "[(48.375, 110.375), (48.375, 110.375)]\n",
      "[(48.375, 110.375), (48.375, 110.375)]\n",
      "[(48.375, 110.375), (48.375, 110.375)]\n",
      "[(48.375, 110.375), (48.375, 110.375)]\n",
      "[(48.375, 110.375), (48.375, 110.375)]\n",
      "[(48.375, 110.375), (48.375, 110.375)]\n",
      "[(48.375, 110.375), (48.375, 110.375)]\n",
      "[(48.375, 110.375), (48.375, 110.375)]\n"
     ]
    }
   ],
   "source": [
    "for i in range(len(skeleton)):\n",
    "    joint_name = skeleton[i]['name']\n",
    "    pid = skeleton[i]['parent_id']\n",
    "    parent_joint_name = skeleton[pid]['name']\n",
    "    kps_i = (joint_coord[i][0].astype(np.int32), joint_coord[i][1].astype(np.int32))\n",
    "    kps_pid = (joint_coord[pid][0].astype(np.int32), joint_coord[pid][1].astype(np.int32))\n",
    "    if  joint_valid[i] >  0.4 and  joint_valid[pid] > 0.4 and pid != -1:\n",
    "        print([(joint_coord[i][0], joint_coord[i][1]), (joint_coord[pid][0], joint_coord[pid][1])])\n",
    "        draw.line([(joint_coord[i][0], joint_coord[i][1]), (joint_coord[pid][0], joint_coord[pid][1])], fill=rgb_dict[parent_joint_name], width=3)\n",
    "    if  joint_valid[i] > 0.4:\n",
    "        draw.ellipse((joint_coord[i][0]-3, joint_coord[i][1]-3, joint_coord[i][0]+3, joint_coord[i][1]+3), fill=rgb_dict[joint_name])\n",
    "    if  joint_valid[pid] > 0.4 and pid != -1:\n",
    "        draw.ellipse((joint_coord[pid][0]-3, joint_coord[pid][1]-3, joint_coord[pid][0]+3, joint_coord[pid][1]+3), fill=rgb_dict[parent_joint_name])\n",
    "    "
   ]
  },
  {
   "cell_type": "code",
   "execution_count": 15,
   "metadata": {},
   "outputs": [],
   "source": [
    "_img.save(\"deneme1.jpg\")"
   ]
  },
  {
   "cell_type": "code",
   "execution_count": 16,
   "metadata": {},
   "outputs": [],
   "source": [
    "bbox = [69, 137, 165, 153] # xmin, ymin, width, height\n",
    "bbox = process_bbox(bbox, (original_img_height, original_img_width, original_img_height))\n",
    "img, trans, inv_trans = generate_patch_image(image, bbox, False, 1.0, 0.0, cfg.input_img_shape)\n",
    "transform = transforms.ToTensor()\n",
    "img = transform(img.astype(np.float32))/255\n",
    "img = img[None,:,:,:]"
   ]
  },
  {
   "cell_type": "code",
   "execution_count": 17,
   "metadata": {},
   "outputs": [
    {
     "data": {
      "text/plain": [
       "tensor([[  48.3750,  110.3750,  -31.2500],\n",
       "        [  48.3750,  110.3750,  193.7500],\n",
       "        [  48.3750,  110.3750,  -93.7500],\n",
       "        [  48.3750,  110.3750, -118.7500],\n",
       "        [  48.3750,  110.3750,  -43.7500],\n",
       "        [  48.3750,  110.3750,  137.5000],\n",
       "        [  48.3750,  110.3750,   -6.2500],\n",
       "        [  48.3750,  110.3750,  162.5000],\n",
       "        [  48.3750,  110.3750,  137.5000],\n",
       "        [  48.3750,  110.3750,   -6.2500],\n",
       "        [  48.3750,  110.3750, -193.7500],\n",
       "        [  48.3750,  110.3750,  106.2500],\n",
       "        [  48.3750,  110.3750,  -87.5000],\n",
       "        [  48.3750,  110.3750, -150.0000],\n",
       "        [  48.3750,  110.3750, -150.0000],\n",
       "        [  48.3750,  110.3750, -137.5000],\n",
       "        [  48.3750,  110.3750,  -37.5000],\n",
       "        [  48.3750,  110.3750, -150.0000],\n",
       "        [  48.3750,  110.3750,   18.7500],\n",
       "        [  48.3750,  110.3750,  -43.7500],\n",
       "        [  48.3750,  110.3750,  -43.7500],\n",
       "        [  48.3750,  110.3750,  103.3860],\n",
       "        [  48.3750,  110.3750,   78.3860],\n",
       "        [  48.3750,  110.3750,  134.6360],\n",
       "        [  48.3750,  110.3750, -177.8640],\n",
       "        [  48.3750,  110.3750, -127.8640],\n",
       "        [  48.3750,  110.3750,  -59.1140],\n",
       "        [  48.3750,  110.3750,   22.1360],\n",
       "        [  48.3750,  110.3750,  165.8860],\n",
       "        [  48.3750,  110.3750,  -71.6140],\n",
       "        [  48.3750,  110.3750,  115.8860],\n",
       "        [  48.3750,  110.3750,  140.8860],\n",
       "        [  48.3750,  110.3750,   97.1360],\n",
       "        [  48.3750,  110.3750, -202.8640],\n",
       "        [  48.3750,  110.3750,   65.8860],\n",
       "        [  48.3750,  110.3750,   53.3860],\n",
       "        [  48.3750,  110.3750,  103.3860],\n",
       "        [  48.3750,  110.3750,  -90.3640],\n",
       "        [  48.3750,  110.3750,   65.8860],\n",
       "        [  48.3750,  110.3750,   28.3860],\n",
       "        [  48.3750,  110.3750,   84.6360],\n",
       "        [  48.3750,  110.3750,  -52.8640]])"
      ]
     },
     "execution_count": 17,
     "metadata": {},
     "output_type": "execute_result"
    },
    {
     "ename": "",
     "evalue": "",
     "output_type": "error",
     "traceback": [
      "\u001b[1;31mThe Kernel crashed while executing code in the the current cell or a previous cell. Please review the code in the cell(s) to identify a possible cause of the failure. Click <a href='https://aka.ms/vscodeJupyterKernelCrash'>here</a> for more info. View Jupyter <a href='command:jupyter.viewOutput'>log</a> for further details."
     ]
    }
   ],
   "source": [
    "out['joint_coord'][0]"
   ]
  }
 ],
 "metadata": {
  "kernelspec": {
   "display_name": ".venv",
   "language": "python",
   "name": "python3"
  },
  "language_info": {
   "codemirror_mode": {
    "name": "ipython",
    "version": 3
   },
   "file_extension": ".py",
   "mimetype": "text/x-python",
   "name": "python",
   "nbconvert_exporter": "python",
   "pygments_lexer": "ipython3",
   "version": "3.9.13"
  }
 },
 "nbformat": 4,
 "nbformat_minor": 2
}
